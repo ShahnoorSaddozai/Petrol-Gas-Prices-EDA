{
 "cells": [
  {
   "cell_type": "code",
   "execution_count": 72,
   "metadata": {},
   "outputs": [],
   "source": [
    "import numpy as np\n",
    "import pandas as pd"
   ]
  },
  {
   "cell_type": "code",
   "execution_count": 73,
   "metadata": {},
   "outputs": [
    {
     "data": {
      "text/html": [
       "<div>\n",
       "<style scoped>\n",
       "    .dataframe tbody tr th:only-of-type {\n",
       "        vertical-align: middle;\n",
       "    }\n",
       "\n",
       "    .dataframe tbody tr th {\n",
       "        vertical-align: top;\n",
       "    }\n",
       "\n",
       "    .dataframe thead th {\n",
       "        text-align: right;\n",
       "    }\n",
       "</style>\n",
       "<table border=\"1\" class=\"dataframe\">\n",
       "  <thead>\n",
       "    <tr style=\"text-align: right;\">\n",
       "      <th></th>\n",
       "      <th>S#</th>\n",
       "      <th>Country</th>\n",
       "      <th>Daily Oil Consumption (Barrels)</th>\n",
       "      <th>World Share</th>\n",
       "      <th>Yearly Gallons Per Capita</th>\n",
       "      <th>Price Per Gallon (USD)</th>\n",
       "      <th>Price Per Liter (USD)</th>\n",
       "      <th>Price Per Liter (PKR)</th>\n",
       "      <th>GDP Per Capita ( USD )</th>\n",
       "      <th>Gallons GDP Per Capita Can Buy</th>\n",
       "      <th>xTimes Yearly Gallons Per Capita Buy</th>\n",
       "    </tr>\n",
       "  </thead>\n",
       "  <tbody>\n",
       "    <tr>\n",
       "      <th>0</th>\n",
       "      <td>1</td>\n",
       "      <td>United States</td>\n",
       "      <td>19,687,287</td>\n",
       "      <td>20%</td>\n",
       "      <td>934.3</td>\n",
       "      <td>5.19</td>\n",
       "      <td>1.37</td>\n",
       "      <td>289.97</td>\n",
       "      <td>63,414</td>\n",
       "      <td>12,218</td>\n",
       "      <td>13</td>\n",
       "    </tr>\n",
       "    <tr>\n",
       "      <th>1</th>\n",
       "      <td>2</td>\n",
       "      <td>China</td>\n",
       "      <td>12,791,553</td>\n",
       "      <td>13%</td>\n",
       "      <td>138.7</td>\n",
       "      <td>5.42</td>\n",
       "      <td>1.43</td>\n",
       "      <td>302.87</td>\n",
       "      <td>10,435</td>\n",
       "      <td>1,925</td>\n",
       "      <td>14</td>\n",
       "    </tr>\n",
       "    <tr>\n",
       "      <th>2</th>\n",
       "      <td>3</td>\n",
       "      <td>India</td>\n",
       "      <td>4,443,000</td>\n",
       "      <td>5%</td>\n",
       "      <td>51.4</td>\n",
       "      <td>5.05</td>\n",
       "      <td>1.33</td>\n",
       "      <td>281.93</td>\n",
       "      <td>1,901</td>\n",
       "      <td>376</td>\n",
       "      <td>7</td>\n",
       "    </tr>\n",
       "    <tr>\n",
       "      <th>3</th>\n",
       "      <td>4</td>\n",
       "      <td>Japan</td>\n",
       "      <td>4,012,877</td>\n",
       "      <td>4%</td>\n",
       "      <td>481.5</td>\n",
       "      <td>4.69</td>\n",
       "      <td>1.24</td>\n",
       "      <td>262.05</td>\n",
       "      <td>40,193</td>\n",
       "      <td>8,570</td>\n",
       "      <td>18</td>\n",
       "    </tr>\n",
       "    <tr>\n",
       "      <th>4</th>\n",
       "      <td>5</td>\n",
       "      <td>Russia</td>\n",
       "      <td>3,631,287</td>\n",
       "      <td>4%</td>\n",
       "      <td>383.2</td>\n",
       "      <td>3.41</td>\n",
       "      <td>0.90</td>\n",
       "      <td>190.56</td>\n",
       "      <td>10,127</td>\n",
       "      <td>2,970</td>\n",
       "      <td>8</td>\n",
       "    </tr>\n",
       "    <tr>\n",
       "      <th>...</th>\n",
       "      <td>...</td>\n",
       "      <td>...</td>\n",
       "      <td>...</td>\n",
       "      <td>...</td>\n",
       "      <td>...</td>\n",
       "      <td>...</td>\n",
       "      <td>...</td>\n",
       "      <td>...</td>\n",
       "      <td>...</td>\n",
       "      <td>...</td>\n",
       "      <td>...</td>\n",
       "    </tr>\n",
       "    <tr>\n",
       "      <th>176</th>\n",
       "      <td>177</td>\n",
       "      <td>Belize</td>\n",
       "      <td>4,001</td>\n",
       "      <td>0%</td>\n",
       "      <td>166.5</td>\n",
       "      <td>6.68</td>\n",
       "      <td>1.76</td>\n",
       "      <td>373.09</td>\n",
       "      <td>4,436</td>\n",
       "      <td>664</td>\n",
       "      <td>4</td>\n",
       "    </tr>\n",
       "    <tr>\n",
       "      <th>177</th>\n",
       "      <td>178</td>\n",
       "      <td>Niue</td>\n",
       "      <td>51</td>\n",
       "      <td>0%</td>\n",
       "      <td>484.4</td>\n",
       "      <td>11.43</td>\n",
       "      <td>3.02</td>\n",
       "      <td>638.73</td>\n",
       "      <td>15,586</td>\n",
       "      <td>1,364</td>\n",
       "      <td>3</td>\n",
       "    </tr>\n",
       "    <tr>\n",
       "      <th>178</th>\n",
       "      <td>179</td>\n",
       "      <td>Saint Pierre &amp; Miquelon</td>\n",
       "      <td>660</td>\n",
       "      <td>0%</td>\n",
       "      <td>1705.1</td>\n",
       "      <td>8.27</td>\n",
       "      <td>2.19</td>\n",
       "      <td>462.13</td>\n",
       "      <td>34,900</td>\n",
       "      <td>4,220</td>\n",
       "      <td>2</td>\n",
       "    </tr>\n",
       "    <tr>\n",
       "      <th>179</th>\n",
       "      <td>180</td>\n",
       "      <td>Montserrat</td>\n",
       "      <td>400</td>\n",
       "      <td>0%</td>\n",
       "      <td>1231.1</td>\n",
       "      <td>4.57</td>\n",
       "      <td>1.21</td>\n",
       "      <td>255.07</td>\n",
       "      <td>12,589</td>\n",
       "      <td>2,755</td>\n",
       "      <td>2</td>\n",
       "    </tr>\n",
       "    <tr>\n",
       "      <th>180</th>\n",
       "      <td>181</td>\n",
       "      <td>Tonga</td>\n",
       "      <td>899</td>\n",
       "      <td>0%</td>\n",
       "      <td>136.3</td>\n",
       "      <td>16.20</td>\n",
       "      <td>4.28</td>\n",
       "      <td>905.22</td>\n",
       "      <td>4,903</td>\n",
       "      <td>303</td>\n",
       "      <td>2</td>\n",
       "    </tr>\n",
       "  </tbody>\n",
       "</table>\n",
       "<p>181 rows × 11 columns</p>\n",
       "</div>"
      ],
      "text/plain": [
       "      S#                  Country Daily Oil Consumption (Barrels) World Share  \\\n",
       "0      1            United States                      19,687,287         20%   \n",
       "1      2                    China                      12,791,553         13%   \n",
       "2      3                    India                       4,443,000          5%   \n",
       "3      4                    Japan                       4,012,877          4%   \n",
       "4      5                   Russia                       3,631,287          4%   \n",
       "..   ...                      ...                             ...         ...   \n",
       "176  177                   Belize                           4,001          0%   \n",
       "177  178                     Niue                              51          0%   \n",
       "178  179  Saint Pierre & Miquelon                             660          0%   \n",
       "179  180               Montserrat                             400          0%   \n",
       "180  181                    Tonga                             899          0%   \n",
       "\n",
       "     Yearly Gallons Per Capita  Price Per Gallon (USD)  Price Per Liter (USD)  \\\n",
       "0                        934.3                    5.19                   1.37   \n",
       "1                        138.7                    5.42                   1.43   \n",
       "2                         51.4                    5.05                   1.33   \n",
       "3                        481.5                    4.69                   1.24   \n",
       "4                        383.2                    3.41                   0.90   \n",
       "..                         ...                     ...                    ...   \n",
       "176                      166.5                    6.68                   1.76   \n",
       "177                      484.4                   11.43                   3.02   \n",
       "178                     1705.1                    8.27                   2.19   \n",
       "179                     1231.1                    4.57                   1.21   \n",
       "180                      136.3                   16.20                   4.28   \n",
       "\n",
       "     Price Per Liter (PKR) GDP Per Capita ( USD )  \\\n",
       "0                   289.97                 63,414   \n",
       "1                   302.87                 10,435   \n",
       "2                   281.93                  1,901   \n",
       "3                   262.05                 40,193   \n",
       "4                   190.56                 10,127   \n",
       "..                     ...                    ...   \n",
       "176                 373.09                  4,436   \n",
       "177                 638.73                 15,586   \n",
       "178                 462.13                 34,900   \n",
       "179                 255.07                 12,589   \n",
       "180                 905.22                  4,903   \n",
       "\n",
       "    Gallons GDP Per Capita Can Buy  xTimes Yearly Gallons Per Capita Buy  \n",
       "0                           12,218                                    13  \n",
       "1                            1,925                                    14  \n",
       "2                              376                                     7  \n",
       "3                            8,570                                    18  \n",
       "4                            2,970                                     8  \n",
       "..                             ...                                   ...  \n",
       "176                            664                                     4  \n",
       "177                          1,364                                     3  \n",
       "178                          4,220                                     2  \n",
       "179                          2,755                                     2  \n",
       "180                            303                                     2  \n",
       "\n",
       "[181 rows x 11 columns]"
      ]
     },
     "execution_count": 73,
     "metadata": {},
     "output_type": "execute_result"
    }
   ],
   "source": [
    "data=pd.read_csv('Petrol_Gas_Prices_Worldwide.csv', encoding='latin-1')\n",
    "data"
   ]
  },
  {
   "cell_type": "code",
   "execution_count": 74,
   "metadata": {},
   "outputs": [
    {
     "name": "stdout",
     "output_type": "stream",
     "text": [
      "<class 'pandas.core.frame.DataFrame'>\n",
      "RangeIndex: 181 entries, 0 to 180\n",
      "Data columns (total 11 columns):\n",
      " #   Column                                Non-Null Count  Dtype  \n",
      "---  ------                                --------------  -----  \n",
      " 0   S#                                    181 non-null    int64  \n",
      " 1   Country                               181 non-null    object \n",
      " 2   Daily Oil Consumption (Barrels)       181 non-null    object \n",
      " 3   World Share                           181 non-null    object \n",
      " 4   Yearly Gallons Per Capita             181 non-null    float64\n",
      " 5   Price Per Gallon (USD)                181 non-null    float64\n",
      " 6   Price Per Liter (USD)                 181 non-null    float64\n",
      " 7   Price Per Liter (PKR)                 181 non-null    float64\n",
      " 8   GDP Per Capita ( USD )                181 non-null    object \n",
      " 9   Gallons GDP Per Capita Can Buy        181 non-null    object \n",
      " 10  xTimes Yearly Gallons Per Capita Buy  181 non-null    int64  \n",
      "dtypes: float64(4), int64(2), object(5)\n",
      "memory usage: 15.7+ KB\n"
     ]
    }
   ],
   "source": [
    "data.info()"
   ]
  },
  {
   "cell_type": "code",
   "execution_count": 75,
   "metadata": {},
   "outputs": [
    {
     "data": {
      "text/plain": [
       "S#                                      0\n",
       "Country                                 0\n",
       "Daily Oil Consumption (Barrels)         0\n",
       "World Share                             0\n",
       "Yearly Gallons Per Capita               0\n",
       "Price Per Gallon (USD)                  0\n",
       "Price Per Liter (USD)                   0\n",
       "Price Per Liter (PKR)                   0\n",
       "GDP Per Capita ( USD )                  0\n",
       "Gallons GDP Per Capita Can Buy          0\n",
       "xTimes Yearly Gallons Per Capita Buy    0\n",
       "dtype: int64"
      ]
     },
     "execution_count": 75,
     "metadata": {},
     "output_type": "execute_result"
    }
   ],
   "source": [
    "data.isnull().sum()"
   ]
  },
  {
   "cell_type": "code",
   "execution_count": 76,
   "metadata": {},
   "outputs": [
    {
     "data": {
      "text/plain": [
       "Index(['Country', 'Daily Oil Consumption (Barrels)', 'World Share',\n",
       "       'Yearly Gallons Per Capita', 'Price Per Gallon (USD)',\n",
       "       'Price Per Liter (USD)', 'Price Per Liter (PKR)',\n",
       "       'GDP Per Capita ( USD )', 'Gallons GDP Per Capita Can Buy',\n",
       "       'xTimes Yearly Gallons Per Capita Buy'],\n",
       "      dtype='object')"
      ]
     },
     "execution_count": 76,
     "metadata": {},
     "output_type": "execute_result"
    }
   ],
   "source": [
    "data.drop('S#',inplace =True , axis=1)\n",
    "data.columns"
   ]
  },
  {
   "cell_type": "markdown",
   "metadata": {},
   "source": [
    "CONVERT DATA TYPE FROM STRING TO FLOAT"
   ]
  },
  {
   "cell_type": "code",
   "execution_count": 77,
   "metadata": {},
   "outputs": [],
   "source": [
    "data['Daily Oil Consumption (Barrels)']=data['Daily Oil Consumption (Barrels)'].apply(lambda x: x.replace(',',''))\n",
    "data['Daily Oil Consumption (Barrels)']=data['Daily Oil Consumption (Barrels)'].astype(float)"
   ]
  },
  {
   "cell_type": "code",
   "execution_count": 78,
   "metadata": {},
   "outputs": [],
   "source": [
    "data['GDP Per Capita ( USD )']=data['GDP Per Capita ( USD )'].apply(lambda x: x.replace(',',''))\n",
    "data['GDP Per Capita ( USD )']=data['GDP Per Capita ( USD )'].astype(float)"
   ]
  },
  {
   "cell_type": "code",
   "execution_count": 79,
   "metadata": {},
   "outputs": [],
   "source": [
    "data['Gallons GDP Per Capita Can Buy']=data['Gallons GDP Per Capita Can Buy'].apply(lambda x: x.replace(',',''))\n",
    "data['Gallons GDP Per Capita Can Buy']=data['Gallons GDP Per Capita Can Buy'].astype(float)"
   ]
  },
  {
   "cell_type": "code",
   "execution_count": 80,
   "metadata": {},
   "outputs": [],
   "source": [
    "Total_Consumption=data['Daily Oil Consumption (Barrels)'].sum()\n",
    "data['World Share']=(data['Daily Oil Consumption (Barrels)']/Total_Consumption)*100"
   ]
  },
  {
   "cell_type": "markdown",
   "metadata": {},
   "source": [
    "DATA ANALYSIS"
   ]
  },
  {
   "cell_type": "markdown",
   "metadata": {},
   "source": [
    "COUNTRIES WITH MOST AND LEAST DAILY OIL CONSUMPTION"
   ]
  },
  {
   "cell_type": "code",
   "execution_count": 81,
   "metadata": {},
   "outputs": [
    {
     "data": {
      "text/plain": [
       "181"
      ]
     },
     "execution_count": 81,
     "metadata": {},
     "output_type": "execute_result"
    }
   ],
   "source": [
    "Countries=data.groupby('Country')\n",
    "Countries\n",
    "len(Countries)"
   ]
  },
  {
   "cell_type": "code",
   "execution_count": 82,
   "metadata": {},
   "outputs": [
    {
     "data": {
      "text/plain": [
       "Country\n",
       "United States              19687287.0\n",
       "China                      12791553.0\n",
       "India                       4443000.0\n",
       "Japan                       4012877.0\n",
       "Russia                      3631287.0\n",
       "                              ...    \n",
       "Saint Pierre & Miquelon         660.0\n",
       "Kiribati                        400.0\n",
       "Montserrat                      400.0\n",
       "Saint Helena                     70.0\n",
       "Niue                             51.0\n",
       "Name: Daily Oil Consumption (Barrels), Length: 181, dtype: float64"
      ]
     },
     "execution_count": 82,
     "metadata": {},
     "output_type": "execute_result"
    }
   ],
   "source": [
    "Countries['Daily Oil Consumption (Barrels)'].sum().sort_values(ascending=False)"
   ]
  },
  {
   "cell_type": "code",
   "execution_count": 83,
   "metadata": {},
   "outputs": [
    {
     "data": {
      "text/plain": [
       "Country\n",
       "Niue                             51.0\n",
       "Saint Helena                     70.0\n",
       "Kiribati                        400.0\n",
       "Montserrat                      400.0\n",
       "Saint Pierre & Miquelon         660.0\n",
       "                              ...    \n",
       "Russia                      3631287.0\n",
       "Japan                       4012877.0\n",
       "India                       4443000.0\n",
       "China                      12791553.0\n",
       "United States              19687287.0\n",
       "Name: Daily Oil Consumption (Barrels), Length: 181, dtype: float64"
      ]
     },
     "execution_count": 83,
     "metadata": {},
     "output_type": "execute_result"
    }
   ],
   "source": [
    "Countries['Daily Oil Consumption (Barrels)'].sum().sort_values(ascending=True)"
   ]
  },
  {
   "cell_type": "markdown",
   "metadata": {},
   "source": [
    "COUNTRIES AND THEIR WORLD SHARE"
   ]
  },
  {
   "cell_type": "code",
   "execution_count": 84,
   "metadata": {},
   "outputs": [
    {
     "data": {
      "text/plain": [
       "Country\n",
       "Niue                        0.000053\n",
       "Saint Helena                0.000072\n",
       "Kiribati                    0.000414\n",
       "Montserrat                  0.000414\n",
       "Saint Pierre & Miquelon     0.000683\n",
       "                             ...    \n",
       "Russia                      3.760002\n",
       "Japan                       4.155118\n",
       "India                       4.600487\n",
       "China                      13.244965\n",
       "United States              20.385127\n",
       "Name: World Share, Length: 181, dtype: float64"
      ]
     },
     "execution_count": 84,
     "metadata": {},
     "output_type": "execute_result"
    }
   ],
   "source": [
    "Countries['World Share'].sum().sort_values(ascending=True)"
   ]
  },
  {
   "cell_type": "code",
   "execution_count": 85,
   "metadata": {},
   "outputs": [
    {
     "data": {
      "text/plain": [
       "Country\n",
       "United States              20.385127\n",
       "China                      13.244965\n",
       "India                       4.600487\n",
       "Japan                       4.155118\n",
       "Russia                      3.760002\n",
       "                             ...    \n",
       "Saint Pierre & Miquelon     0.000683\n",
       "Kiribati                    0.000414\n",
       "Montserrat                  0.000414\n",
       "Saint Helena                0.000072\n",
       "Niue                        0.000053\n",
       "Name: World Share, Length: 181, dtype: float64"
      ]
     },
     "execution_count": 85,
     "metadata": {},
     "output_type": "execute_result"
    }
   ],
   "source": [
    "Countries['World Share'].sum().sort_values(ascending=False)"
   ]
  },
  {
   "cell_type": "markdown",
   "metadata": {},
   "source": [
    "DATA ANALYSIS USING VISUALIZATION TECHNIQUES:"
   ]
  },
  {
   "cell_type": "markdown",
   "metadata": {},
   "source": [
    "HEATMAP:"
   ]
  },
  {
   "cell_type": "code",
   "execution_count": 86,
   "metadata": {},
   "outputs": [
    {
     "data": {
      "text/plain": [
       "<AxesSubplot:>"
      ]
     },
     "execution_count": 86,
     "metadata": {},
     "output_type": "execute_result"
    },
    {
     "data": {
      "image/png": "[encoded data removed]",
      "text/plain": [
       "<Figure size 1440x720 with 2 Axes>"
      ]
     },
     "metadata": {
      "needs_background": "light"
     },
     "output_type": "display_data"
    }
   ],
   "source": [
    "import matplotlib.pyplot as plt\n",
    "import seaborn as sns\n",
    "plt.figure(figsize=(20,10))\n",
    "sns.heatmap(data.corr(), annot=True, fmt='.2f')"
   ]
  },
  {
   "cell_type": "markdown",
   "metadata": {},
   "source": [
    "PERCENTAGE OF DAILY OIL CONSUMPTION OF TOP 5 COUNTRIES:"
   ]
  },
  {
   "cell_type": "code",
   "execution_count": 87,
   "metadata": {},
   "outputs": [
    {
     "data": {
      "text/html": [
       "<div>\n",
       "<style scoped>\n",
       "    .dataframe tbody tr th:only-of-type {\n",
       "        vertical-align: middle;\n",
       "    }\n",
       "\n",
       "    .dataframe tbody tr th {\n",
       "        vertical-align: top;\n",
       "    }\n",
       "\n",
       "    .dataframe thead th {\n",
       "        text-align: right;\n",
       "    }\n",
       "</style>\n",
       "<table border=\"1\" class=\"dataframe\">\n",
       "  <thead>\n",
       "    <tr style=\"text-align: right;\">\n",
       "      <th></th>\n",
       "      <th>Country</th>\n",
       "      <th>Daily Oil Consumption (Barrels)</th>\n",
       "      <th>World Share</th>\n",
       "      <th>Yearly Gallons Per Capita</th>\n",
       "      <th>Price Per Gallon (USD)</th>\n",
       "      <th>Price Per Liter (USD)</th>\n",
       "      <th>Price Per Liter (PKR)</th>\n",
       "      <th>GDP Per Capita ( USD )</th>\n",
       "      <th>Gallons GDP Per Capita Can Buy</th>\n",
       "      <th>xTimes Yearly Gallons Per Capita Buy</th>\n",
       "    </tr>\n",
       "  </thead>\n",
       "  <tbody>\n",
       "    <tr>\n",
       "      <th>0</th>\n",
       "      <td>United States</td>\n",
       "      <td>19687287.0</td>\n",
       "      <td>20.385127</td>\n",
       "      <td>934.3</td>\n",
       "      <td>5.19</td>\n",
       "      <td>1.37</td>\n",
       "      <td>289.97</td>\n",
       "      <td>63414.0</td>\n",
       "      <td>12218.0</td>\n",
       "      <td>13</td>\n",
       "    </tr>\n",
       "    <tr>\n",
       "      <th>1</th>\n",
       "      <td>China</td>\n",
       "      <td>12791553.0</td>\n",
       "      <td>13.244965</td>\n",
       "      <td>138.7</td>\n",
       "      <td>5.42</td>\n",
       "      <td>1.43</td>\n",
       "      <td>302.87</td>\n",
       "      <td>10435.0</td>\n",
       "      <td>1925.0</td>\n",
       "      <td>14</td>\n",
       "    </tr>\n",
       "    <tr>\n",
       "      <th>2</th>\n",
       "      <td>India</td>\n",
       "      <td>4443000.0</td>\n",
       "      <td>4.600487</td>\n",
       "      <td>51.4</td>\n",
       "      <td>5.05</td>\n",
       "      <td>1.33</td>\n",
       "      <td>281.93</td>\n",
       "      <td>1901.0</td>\n",
       "      <td>376.0</td>\n",
       "      <td>7</td>\n",
       "    </tr>\n",
       "    <tr>\n",
       "      <th>3</th>\n",
       "      <td>Japan</td>\n",
       "      <td>4012877.0</td>\n",
       "      <td>4.155118</td>\n",
       "      <td>481.5</td>\n",
       "      <td>4.69</td>\n",
       "      <td>1.24</td>\n",
       "      <td>262.05</td>\n",
       "      <td>40193.0</td>\n",
       "      <td>8570.0</td>\n",
       "      <td>18</td>\n",
       "    </tr>\n",
       "    <tr>\n",
       "      <th>4</th>\n",
       "      <td>Russia</td>\n",
       "      <td>3631287.0</td>\n",
       "      <td>3.760002</td>\n",
       "      <td>383.2</td>\n",
       "      <td>3.41</td>\n",
       "      <td>0.90</td>\n",
       "      <td>190.56</td>\n",
       "      <td>10127.0</td>\n",
       "      <td>2970.0</td>\n",
       "      <td>8</td>\n",
       "    </tr>\n",
       "  </tbody>\n",
       "</table>\n",
       "</div>"
      ],
      "text/plain": [
       "         Country  Daily Oil Consumption (Barrels)  World Share  \\\n",
       "0  United States                       19687287.0    20.385127   \n",
       "1          China                       12791553.0    13.244965   \n",
       "2          India                        4443000.0     4.600487   \n",
       "3          Japan                        4012877.0     4.155118   \n",
       "4         Russia                        3631287.0     3.760002   \n",
       "\n",
       "   Yearly Gallons Per Capita  Price Per Gallon (USD)  Price Per Liter (USD)  \\\n",
       "0                      934.3                    5.19                   1.37   \n",
       "1                      138.7                    5.42                   1.43   \n",
       "2                       51.4                    5.05                   1.33   \n",
       "3                      481.5                    4.69                   1.24   \n",
       "4                      383.2                    3.41                   0.90   \n",
       "\n",
       "   Price Per Liter (PKR)  GDP Per Capita ( USD )  \\\n",
       "0                 289.97                 63414.0   \n",
       "1                 302.87                 10435.0   \n",
       "2                 281.93                  1901.0   \n",
       "3                 262.05                 40193.0   \n",
       "4                 190.56                 10127.0   \n",
       "\n",
       "   Gallons GDP Per Capita Can Buy  xTimes Yearly Gallons Per Capita Buy  \n",
       "0                         12218.0                                    13  \n",
       "1                          1925.0                                    14  \n",
       "2                           376.0                                     7  \n",
       "3                          8570.0                                    18  \n",
       "4                          2970.0                                     8  "
      ]
     },
     "execution_count": 87,
     "metadata": {},
     "output_type": "execute_result"
    }
   ],
   "source": [
    "\n",
    "top_5_countries = data.nlargest(5, 'Daily Oil Consumption (Barrels)')\n",
    "top_5_countries.head()"
   ]
  },
  {
   "cell_type": "code",
   "execution_count": 89,
   "metadata": {},
   "outputs": [
    {
     "name": "stdout",
     "output_type": "stream",
     "text": [
      "Collecting plotlyNote: you may need to restart the kernel to use updated packages.\n",
      "\n",
      "  Using cached plotly-5.11.0-py2.py3-none-any.whl (15.3 MB)\n",
      "Collecting tenacity>=6.2.0\n",
      "  Using cached tenacity-8.1.0-py3-none-any.whl (23 kB)\n",
      "Installing collected packages: tenacity, plotly\n",
      "Successfully installed plotly-5.11.0 tenacity-8.1.0\n"
     ]
    },
    {
     "name": "stderr",
     "output_type": "stream",
     "text": [
      "WARNING: You are using pip version 22.0.4; however, version 22.3.1 is available.\n",
      "You should consider upgrading via the 'c:\\Users\\Rizwan computer\\AppData\\Local\\Programs\\Python\\Python310\\python.exe -m pip install --upgrade pip' command.\n"
     ]
    }
   ],
   "source": [
    "pip install plotly"
   ]
  },
  {
   "cell_type": "code",
   "execution_count": 93,
   "metadata": {},
   "outputs": [
    {
     "name": "stdout",
     "output_type": "stream",
     "text": [
      "Note: you may need to restart the kernel to use updated packages.Collecting plotly_express==0.4.\n",
      "  Using cached plotly_express-0.4.0-py2.py3-none-any.whl (2.1 kB)\n",
      "Collecting 0\n",
      "  Downloading 0-0.0.0-py2.py3-none-any.whl (2.0 kB)\n",
      "Collecting patsy>=0.5\n",
      "  Using cached patsy-0.5.3-py2.py3-none-any.whl (233 kB)\n",
      "Requirement already satisfied: scipy>=0.18 in c:\\users\\rizwan computer\\appdata\\local\\programs\\python\\python310\\lib\\site-packages (from plotly_express==0.4.) (1.8.0)\n",
      "Requirement already satisfied: numpy>=1.11 in c:\\users\\rizwan computer\\appdata\\local\\programs\\python\\python310\\lib\\site-packages (from plotly_express==0.4.) (1.22.3)\n",
      "Requirement already satisfied: pandas>=0.20.0 in c:\\users\\rizwan computer\\appdata\\local\\programs\\python\\python310\\lib\\site-packages (from plotly_express==0.4.) (1.4.2)\n",
      "Collecting statsmodels>=0.9.0\n",
      "  Downloading statsmodels-0.13.5-cp310-cp310-win_amd64.whl (9.1 MB)\n",
      "     ---------------------------------------- 9.1/9.1 MB 524.2 kB/s eta 0:00:00\n",
      "Requirement already satisfied: plotly>=4.0.0 in c:\\users\\rizwan computer\\appdata\\local\\programs\\python\\python310\\lib\\site-packages (from plotly_express==0.4.) (5.11.0)\n",
      "Requirement already satisfied: pytz>=2020.1 in c:\\users\\rizwan computer\\appdata\\local\\programs\\python\\python310\\lib\\site-packages (from pandas>=0.20.0->plotly_express==0.4.) (2022.1)\n",
      "Requirement already satisfied: python-dateutil>=2.8.1 in c:\\users\\rizwan computer\\appdata\\local\\programs\\python\\python310\\lib\\site-packages (from pandas>=0.20.0->plotly_express==0.4.) (2.8.2)\n",
      "Requirement already satisfied: six in c:\\users\\rizwan computer\\appdata\\local\\programs\\python\\python310\\lib\\site-packages (from patsy>=0.5->plotly_express==0.4.) (1.16.0)\n",
      "Requirement already satisfied: tenacity>=6.2.0 in c:\\users\\rizwan computer\\appdata\\local\\programs\\python\\python310\\lib\\site-packages (from plotly>=4.0.0->plotly_express==0.4.) (8.1.0)\n",
      "Requirement already satisfied: packaging>=21.3 in c:\\users\\rizwan computer\\appdata\\local\\programs\\python\\python310\\lib\\site-packages (from statsmodels>=0.9.0->plotly_express==0.4.) (21.3)\n",
      "Requirement already satisfied: pyparsing!=3.0.5,>=2.0.2 in c:\\users\\rizwan computer\\appdata\\local\\programs\\python\\python310\\lib\\site-packages (from packaging>=21.3->statsmodels>=0.9.0->plotly_express==0.4.) (3.0.8)\n",
      "Installing collected packages: 0, patsy, statsmodels, plotly_express\n",
      "Successfully installed 0-0.0.0 patsy-0.5.3 plotly_express-0.4.0 statsmodels-0.13.5\n",
      "\n"
     ]
    },
    {
     "name": "stderr",
     "output_type": "stream",
     "text": [
      "WARNING: You are using pip version 22.0.4; however, version 22.3.1 is available.\n",
      "You should consider upgrading via the 'c:\\Users\\Rizwan computer\\AppData\\Local\\Programs\\Python\\Python310\\python.exe -m pip install --upgrade pip' command.\n"
     ]
    }
   ],
   "source": [
    "pip install plotly_express==0.4. 0"
   ]
  },
  {
   "cell_type": "code",
   "execution_count": 97,
   "metadata": {},
   "outputs": [
    {
     "name": "stdout",
     "output_type": "stream",
     "text": [
      "Note: you may need to restart the kernel to use updated packages.Collecting nbformat\n",
      "  Downloading nbformat-5.7.0-py3-none-any.whl (77 kB)\n",
      "     -------------------------------------- 77.1/77.1 KB 388.7 kB/s eta 0:00:00\n",
      "Collecting fastjsonschema\n",
      "  Downloading fastjsonschema-2.16.2-py3-none-any.whl (22 kB)\n",
      "Requirement already satisfied: jupyter-core in c:\\users\\rizwan computer\\appdata\\local\\programs\\python\\python310\\lib\\site-packages (from nbformat) (4.9.2)\n",
      "Requirement already satisfied: traitlets>=5.1 in c:\\users\\rizwan computer\\appdata\\local\\programs\\python\\python310\\lib\\site-packages (from nbformat) (5.1.1)\n",
      "Collecting jsonschema>=2.6\n",
      "  Downloading jsonschema-4.17.1-py3-none-any.whl (90 kB)\n",
      "     -------------------------------------- 90.2/90.2 KB 509.4 kB/s eta 0:00:00\n",
      "Requirement already satisfied: attrs>=17.4.0 in c:\\users\\rizwan computer\\appdata\\local\\programs\\python\\python310\\lib\\site-packages (from jsonschema>=2.6->nbformat) (21.4.0)\n",
      "Collecting pyrsistent!=0.17.0,!=0.17.1,!=0.17.2,>=0.14.0\n",
      "  Downloading pyrsistent-0.19.2-cp310-cp310-win_amd64.whl (62 kB)\n",
      "     -------------------------------------- 62.8/62.8 KB 565.1 kB/s eta 0:00:00\n",
      "Requirement already satisfied: pywin32>=1.0 in c:\\users\\rizwan computer\\appdata\\local\\programs\\python\\python310\\lib\\site-packages (from jupyter-core->nbformat) (303)\n",
      "Installing collected packages: fastjsonschema, pyrsistent, jsonschema, nbformat\n",
      "Successfully installed fastjsonschema-2.16.2 jsonschema-4.17.1 nbformat-5.7.0 pyrsistent-0.19.2\n",
      "\n"
     ]
    },
    {
     "name": "stderr",
     "output_type": "stream",
     "text": [
      "WARNING: You are using pip version 22.0.4; however, version 22.3.1 is available.\n",
      "You should consider upgrading via the 'c:\\Users\\Rizwan computer\\AppData\\Local\\Programs\\Python\\Python310\\python.exe -m pip install --upgrade pip' command.\n"
     ]
    }
   ],
   "source": [
    "pip install nbformat"
   ]
  },
  {
   "cell_type": "code",
   "execution_count": 96,
   "metadata": {},
   "outputs": [
    {
     "ename": "ValueError",
     "evalue": "Mime type rendering requires nbformat>=4.2.0 but it is not installed",
     "output_type": "error",
     "traceback": [
      "\u001b[1;31m---------------------------------------------------------------------------\u001b[0m",
      "\u001b[1;31mValueError\u001b[0m                                Traceback (most recent call last)",
      "\u001b[1;32mc:\\Users\\Rizwan computer\\Documents\\7th semester\\DATA SCIENCE\\Assignment_No_01\\assignment_part#2.ipynb Cell 26\u001b[0m in \u001b[0;36m<cell line: 5>\u001b[1;34m()\u001b[0m\n\u001b[0;32m      <a href='vscode-notebook-cell:/c%3A/Users/Rizwan%20computer/Documents/7th%20semester/DATA%20SCIENCE/Assignment_No_01/assignment_part%232.ipynb#X46sZmlsZQ%3D%3D?line=1'>2</a>\u001b[0m fig\u001b[39m=\u001b[39mpx\u001b[39m.\u001b[39mpie(top_5_countries\u001b[39m.\u001b[39mhead(\u001b[39m5\u001b[39m),values\u001b[39m=\u001b[39m\u001b[39m'\u001b[39m\u001b[39mDaily Oil Consumption (Barrels)\u001b[39m\u001b[39m'\u001b[39m,names\u001b[39m=\u001b[39m\u001b[39m'\u001b[39m\u001b[39mCountry\u001b[39m\u001b[39m'\u001b[39m,hole\u001b[39m=\u001b[39m\u001b[39m0.425\u001b[39m, color\u001b[39m=\u001b[39m\u001b[39m'\u001b[39m\u001b[39mCountry\u001b[39m\u001b[39m'\u001b[39m)\n\u001b[0;32m      <a href='vscode-notebook-cell:/c%3A/Users/Rizwan%20computer/Documents/7th%20semester/DATA%20SCIENCE/Assignment_No_01/assignment_part%232.ipynb#X46sZmlsZQ%3D%3D?line=2'>3</a>\u001b[0m \u001b[39m#fig.update_layout(title='Daily Oil Consumption (Barrels )- Top 10 Countries',font_size=15,title_x=0.45,annotations=[dict(text='OC(Barrels)',font_size=18, showarrow=False,height=800,width=700)])\u001b[39;00m\n\u001b[0;32m      <a href='vscode-notebook-cell:/c%3A/Users/Rizwan%20computer/Documents/7th%20semester/DATA%20SCIENCE/Assignment_No_01/assignment_part%232.ipynb#X46sZmlsZQ%3D%3D?line=3'>4</a>\u001b[0m \u001b[39m#fig.update_traces(textfont_size=15,textinfo='percent')\u001b[39;00m\n\u001b[1;32m----> <a href='vscode-notebook-cell:/c%3A/Users/Rizwan%20computer/Documents/7th%20semester/DATA%20SCIENCE/Assignment_No_01/assignment_part%232.ipynb#X46sZmlsZQ%3D%3D?line=4'>5</a>\u001b[0m fig\u001b[39m.\u001b[39;49mshow()\n",
      "File \u001b[1;32mc:\\Users\\Rizwan computer\\AppData\\Local\\Programs\\Python\\Python310\\lib\\site-packages\\plotly\\basedatatypes.py:3398\u001b[0m, in \u001b[0;36mBaseFigure.show\u001b[1;34m(self, *args, **kwargs)\u001b[0m\n\u001b[0;32m   3365\u001b[0m \u001b[39m\"\"\"\u001b[39;00m\n\u001b[0;32m   3366\u001b[0m \u001b[39mShow a figure using either the default renderer(s) or the renderer(s)\u001b[39;00m\n\u001b[0;32m   3367\u001b[0m \u001b[39mspecified by the renderer argument\u001b[39;00m\n\u001b[1;32m   (...)\u001b[0m\n\u001b[0;32m   3394\u001b[0m \u001b[39mNone\u001b[39;00m\n\u001b[0;32m   3395\u001b[0m \u001b[39m\"\"\"\u001b[39;00m\n\u001b[0;32m   3396\u001b[0m \u001b[39mimport\u001b[39;00m \u001b[39mplotly\u001b[39;00m\u001b[39m.\u001b[39;00m\u001b[39mio\u001b[39;00m \u001b[39mas\u001b[39;00m \u001b[39mpio\u001b[39;00m\n\u001b[1;32m-> 3398\u001b[0m \u001b[39mreturn\u001b[39;00m pio\u001b[39m.\u001b[39mshow(\u001b[39mself\u001b[39m, \u001b[39m*\u001b[39margs, \u001b[39m*\u001b[39m\u001b[39m*\u001b[39mkwargs)\n",
      "File \u001b[1;32mc:\\Users\\Rizwan computer\\AppData\\Local\\Programs\\Python\\Python310\\lib\\site-packages\\plotly\\io\\_renderers.py:396\u001b[0m, in \u001b[0;36mshow\u001b[1;34m(fig, renderer, validate, **kwargs)\u001b[0m\n\u001b[0;32m    391\u001b[0m         \u001b[39mraise\u001b[39;00m \u001b[39mValueError\u001b[39;00m(\n\u001b[0;32m    392\u001b[0m             \u001b[39m\"\u001b[39m\u001b[39mMime type rendering requires ipython but it is not installed\u001b[39m\u001b[39m\"\u001b[39m\n\u001b[0;32m    393\u001b[0m         )\n\u001b[0;32m    395\u001b[0m     \u001b[39mif\u001b[39;00m \u001b[39mnot\u001b[39;00m nbformat \u001b[39mor\u001b[39;00m LooseVersion(nbformat\u001b[39m.\u001b[39m__version__) \u001b[39m<\u001b[39m LooseVersion(\u001b[39m\"\u001b[39m\u001b[39m4.2.0\u001b[39m\u001b[39m\"\u001b[39m):\n\u001b[1;32m--> 396\u001b[0m         \u001b[39mraise\u001b[39;00m \u001b[39mValueError\u001b[39;00m(\n\u001b[0;32m    397\u001b[0m             \u001b[39m\"\u001b[39m\u001b[39mMime type rendering requires nbformat>=4.2.0 but it is not installed\u001b[39m\u001b[39m\"\u001b[39m\n\u001b[0;32m    398\u001b[0m         )\n\u001b[0;32m    400\u001b[0m     ipython_display\u001b[39m.\u001b[39mdisplay(bundle, raw\u001b[39m=\u001b[39m\u001b[39mTrue\u001b[39;00m)\n\u001b[0;32m    402\u001b[0m \u001b[39m# external renderers\u001b[39;00m\n",
      "\u001b[1;31mValueError\u001b[0m: Mime type rendering requires nbformat>=4.2.0 but it is not installed"
     ]
    }
   ],
   "source": [
    "import plotly.express as px\n",
    "fig=px.pie(top_5_countries.head(5),values='Daily Oil Consumption (Barrels)',names='Country',hole=0.425, color='Country')\n",
    "#fig.update_layout(title='Daily Oil Consumption (Barrels )- Top 10 Countries',font_size=15,title_x=0.45,annotations=[dict(text='OC(Barrels)',font_size=18, showarrow=False,height=800,width=700)])\n",
    "#fig.update_traces(textfont_size=15,textinfo='percent')\n",
    "fig.show()"
   ]
  },
  {
   "cell_type": "code",
   "execution_count": null,
   "metadata": {},
   "outputs": [],
   "source": []
  }
 ],
 "metadata": {
  "kernelspec": {
   "display_name": "Python 3.10.4 64-bit",
   "language": "python",
   "name": "python3"
  },
  "language_info": {
   "codemirror_mode": {
    "name": "ipython",
    "version": 3
   },
   "file_extension": ".py",
   "mimetype": "text/x-python",
   "name": "python",
   "nbconvert_exporter": "python",
   "pygments_lexer": "ipython3",
   "version": "3.10.4"
  },
  "orig_nbformat": 4,
  "vscode": {
   "interpreter": {
    "hash": "f4069714b2c3ef940b96daa6ff758e1fcfb774a43fe43b1e15fbd48936b10f02"
   }
  }
 },
 "nbformat": 4,
 "nbformat_minor": 2
}
